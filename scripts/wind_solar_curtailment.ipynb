{
 "cells": [
  {
   "cell_type": "code",
   "execution_count": 1,
   "id": "3e1c68df",
   "metadata": {},
   "outputs": [
    {
     "name": "stdout",
     "output_type": "stream",
     "text": [
      "Jupyter notebook is working in tft_new environment!\n"
     ]
    }
   ],
   "source": [
    "print(\"Jupyter notebook is working in tft_new environment!\")"
   ]
  }
 ],
 "metadata": {
  "kernelspec": {
   "display_name": "tft_new",
   "language": "python",
   "name": "python3"
  },
  "language_info": {
   "codemirror_mode": {
    "name": "ipython",
    "version": 3
   },
   "file_extension": ".py",
   "mimetype": "text/x-python",
   "name": "python",
   "nbconvert_exporter": "python",
   "pygments_lexer": "ipython3",
   "version": "3.10.18"
  }
 },
 "nbformat": 4,
 "nbformat_minor": 5
}
